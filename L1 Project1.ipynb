{
 "cells": [
  {
   "cell_type": "markdown",
   "metadata": {},
   "source": [
    "# Overall Description\n",
    "In this project, I choose to analyze a pandas dataframe workflow.\n",
    "\n",
    "For the first requirement, I read the AST documentation of python and define this function f() using BNF notation. The thing f() is trying to do is to assign values(including int and string values) to some list and convert them to a Pandas DataFrame finally. \n",
    "\n",
    "For the second requirement, I implement an algorithm to determine whether a defined function f() fits my syntax and get a TRUE return, which means it fits the syntax that I defined. \n",
    "\n",
    "For the third requirement, I implement two algorithms. The first is to determine the datatype of values(such as int or string type) of the input before I convert them to a dataframe. The second algorithm is to calculate the maximum size of a dataframe without excuting it. For example, I calculated the row numbers via variables name numbers and calculated the column numbers by returning the largest input length of the list. Then we get the row numbers, column number and the size of the DataFrame we want to analyze. "
   ]
  },
  {
   "cell_type": "markdown",
   "metadata": {},
   "source": [
    "# Student Name: Nianyi Zhang\n",
    "E-mail: znianyi@bu.edu"
   ]
  },
  {
   "cell_type": "code",
   "execution_count": 1,
   "metadata": {},
   "outputs": [],
   "source": [
    "# dependencies \n",
    "import ast\n",
    "import inspect\n",
    "import pandas as pd"
   ]
  },
  {
   "cell_type": "code",
   "execution_count": 2,
   "metadata": {},
   "outputs": [],
   "source": [
    "# An Example of my defined syntax\n",
    "def f():\n",
    "    Arr=[]\n",
    "    r1=[1,2,3]\n",
    "    Arr.append(r1)\n",
    "    r2=['a','b','c']\n",
    "    Arr.append(r2)\n",
    "    df=pd.DataFrame(Arr)\n",
    "    return df"
   ]
  },
  {
   "cell_type": "code",
   "execution_count": 3,
   "metadata": {},
   "outputs": [
    {
     "data": {
      "text/html": [
       "<div>\n",
       "<style scoped>\n",
       "    .dataframe tbody tr th:only-of-type {\n",
       "        vertical-align: middle;\n",
       "    }\n",
       "\n",
       "    .dataframe tbody tr th {\n",
       "        vertical-align: top;\n",
       "    }\n",
       "\n",
       "    .dataframe thead th {\n",
       "        text-align: right;\n",
       "    }\n",
       "</style>\n",
       "<table border=\"1\" class=\"dataframe\">\n",
       "  <thead>\n",
       "    <tr style=\"text-align: right;\">\n",
       "      <th></th>\n",
       "      <th>0</th>\n",
       "      <th>1</th>\n",
       "      <th>2</th>\n",
       "    </tr>\n",
       "  </thead>\n",
       "  <tbody>\n",
       "    <tr>\n",
       "      <th>0</th>\n",
       "      <td>1</td>\n",
       "      <td>2</td>\n",
       "      <td>3</td>\n",
       "    </tr>\n",
       "    <tr>\n",
       "      <th>1</th>\n",
       "      <td>a</td>\n",
       "      <td>b</td>\n",
       "      <td>c</td>\n",
       "    </tr>\n",
       "  </tbody>\n",
       "</table>\n",
       "</div>"
      ],
      "text/plain": [
       "   0  1  2\n",
       "0  1  2  3\n",
       "1  a  b  c"
      ]
     },
     "execution_count": 3,
     "metadata": {},
     "output_type": "execute_result"
    }
   ],
   "source": [
    "f()"
   ]
  },
  {
   "cell_type": "code",
   "execution_count": 4,
   "metadata": {},
   "outputs": [
    {
     "data": {
      "text/plain": [
       "\"Module(body=[FunctionDef(name='f', args=arguments(args=[], vararg=None, kwonlyargs=[], kw_defaults=[], kwarg=None, defaults=[]), body=[Assign(targets=[Name(id='Arr', ctx=Store())], value=List(elts=[], ctx=Load())), Assign(targets=[Name(id='r1', ctx=Store())], value=List(elts=[Num(n=1), Num(n=2), Num(n=3)], ctx=Load())), Expr(value=Call(func=Attribute(value=Name(id='Arr', ctx=Load()), attr='append', ctx=Load()), args=[Name(id='r1', ctx=Load())], keywords=[])), Assign(targets=[Name(id='r2', ctx=Store())], value=List(elts=[Str(s='a'), Str(s='b'), Str(s='c')], ctx=Load())), Expr(value=Call(func=Attribute(value=Name(id='Arr', ctx=Load()), attr='append', ctx=Load()), args=[Name(id='r2', ctx=Load())], keywords=[])), Assign(targets=[Name(id='df', ctx=Store())], value=Call(func=Attribute(value=Name(id='pd', ctx=Load()), attr='DataFrame', ctx=Load()), args=[Name(id='Arr', ctx=Load())], keywords=[])), Return(value=Name(id='df', ctx=Load()))], decorator_list=[], returns=None)])\""
      ]
     },
     "execution_count": 4,
     "metadata": {},
     "output_type": "execute_result"
    }
   ],
   "source": [
    "# AST \n",
    "t=ast.parse(inspect.getsource(f))\n",
    "ast.dump(t)"
   ]
  },
  {
   "cell_type": "code",
   "execution_count": null,
   "metadata": {},
   "outputs": [],
   "source": [
    "# for requirement 1          \n",
    "# the BNF notation \n",
    "\n",
    "mod ::= Module(stmt* body)\n",
    "        \n",
    "stmt ::= FunctionDef(identifier name, arguments args, stmt* body, expr* decorator_list, expr returns)\n",
    "    | Assign(expr* targets, expr value)\n",
    "    | Expr(expr value)\n",
    "\n",
    "expr ::= Call(expr func, expr* args, keyword*)\n",
    "    | Attribute(expr value, identifier attr, expr_context ctx)\n",
    "    | Name(identifier id, expr_context ctx)\n",
    "    | List(expr* elts, expr_context ctx)\n",
    "    | Str(string s)\n",
    "    | Num(object n)\n",
    "    | Ellipsis \n",
    "    \n",
    "arguments ::= (arg* args, arg vararg, arg* kwonlyargs, expr* kw_defaults, arg kwarg, expr* defaults)\n",
    "\n",
    "expr_context ::= Load|Store"
   ]
  },
  {
   "cell_type": "code",
   "execution_count": null,
   "metadata": {},
   "outputs": [],
   "source": [
    "# for requirement 2\n",
    "# implement a way to automatically check that a module or function conforms to the syntax of the language"
   ]
  },
  {
   "cell_type": "code",
   "execution_count": 5,
   "metadata": {},
   "outputs": [
    {
     "name": "stdout",
     "output_type": "stream",
     "text": [
      "True\n"
     ]
    }
   ],
   "source": [
    "class dataframe(ast.NodeVisitor):\n",
    "    def visit_Module(self, node):\n",
    "        results= [self.visit(s) for s in node.body]\n",
    "        return all(results)\n",
    "    def visit_FunctionDef(self,node):\n",
    "        results2=[self.visit(r) for r in node.body]\n",
    "        return all(results2)\n",
    "    def visit_Expr(self,node):\n",
    "        return self.visit(node.value)\n",
    "    def visit_Assign(self, node):\n",
    "        return self.visit(node.value)\n",
    "    def visit_List(self,node):\n",
    "        return True\n",
    "    def visit_Call(self,node):\n",
    "        return self.visit(node.func)\n",
    "    def visit_Return(self,node):\n",
    "        return True\n",
    "    def visit_Attribute(self, node):\n",
    "        return True\n",
    "\n",
    "t1=ast.parse(inspect.getsource(f))\n",
    "print(dataframe().visit(t1))"
   ]
  },
  {
   "cell_type": "code",
   "execution_count": null,
   "metadata": {},
   "outputs": [],
   "source": [
    "# for requirement 3\n",
    "# algorithm 1\n",
    "# To make it simple, I want to determine the data type of the input of DataFrame"
   ]
  },
  {
   "cell_type": "code",
   "execution_count": 6,
   "metadata": {},
   "outputs": [
    {
     "name": "stdout",
     "output_type": "stream",
     "text": [
      "<class 'str'>\n",
      "<class 'int'>\n"
     ]
    }
   ],
   "source": [
    "class infer_type(ast.NodeVisitor):\n",
    "    def visit_Module(self,node):\n",
    "        results=[self.visit(s) for s in node.body]\n",
    "        if results==[int]:\n",
    "            return int\n",
    "        if results==[str]:\n",
    "            return str\n",
    "    def visit_FunctionDef(self,node):\n",
    "        results2=[self.visit(s) for s in node.body]\n",
    "        return self.visit(results2)\n",
    "    def visit_Assign(self,node):\n",
    "        return self.visit(node.value)\n",
    "    def visit_List(self,node):\n",
    "        return self.visit(node.elts[0])        \n",
    "    def visit_Str(self,node):\n",
    "        if type(node.s) is str:\n",
    "            return str\n",
    "    def visit_Num(self,node):\n",
    "        if type(node.n) is int:\n",
    "            return int\n",
    "#test=ast.parse(inspect.getsource(h))\n",
    "test=ast.parse('a=[\"1\",\"b\",\"c\"]')\n",
    "print(infer_type().visit(test))\n",
    "\n",
    "test2=ast.parse('b=[1,2,3]')\n",
    "print(infer_type().visit(test2))"
   ]
  },
  {
   "cell_type": "code",
   "execution_count": null,
   "metadata": {},
   "outputs": [],
   "source": [
    "# for requirement 3 \n",
    "# algorithm 2\n",
    "# I want to determine the maximum size of the DataFrame as rows*columns"
   ]
  },
  {
   "cell_type": "code",
   "execution_count": 7,
   "metadata": {},
   "outputs": [],
   "source": [
    "def g():\n",
    "    Arr=[] \n",
    "    r1=[1,2,3]\n",
    "    Arr.append(r1)\n",
    "    r2=[2,3,4,4]\n",
    "    Arr.append(r2)\n",
    "    df=pd.DataFrame(Arr)\n",
    "    return df"
   ]
  },
  {
   "cell_type": "code",
   "execution_count": 8,
   "metadata": {},
   "outputs": [
    {
     "data": {
      "text/html": [
       "<div>\n",
       "<style scoped>\n",
       "    .dataframe tbody tr th:only-of-type {\n",
       "        vertical-align: middle;\n",
       "    }\n",
       "\n",
       "    .dataframe tbody tr th {\n",
       "        vertical-align: top;\n",
       "    }\n",
       "\n",
       "    .dataframe thead th {\n",
       "        text-align: right;\n",
       "    }\n",
       "</style>\n",
       "<table border=\"1\" class=\"dataframe\">\n",
       "  <thead>\n",
       "    <tr style=\"text-align: right;\">\n",
       "      <th></th>\n",
       "      <th>0</th>\n",
       "      <th>1</th>\n",
       "      <th>2</th>\n",
       "      <th>3</th>\n",
       "    </tr>\n",
       "  </thead>\n",
       "  <tbody>\n",
       "    <tr>\n",
       "      <th>0</th>\n",
       "      <td>1</td>\n",
       "      <td>2</td>\n",
       "      <td>3</td>\n",
       "      <td>NaN</td>\n",
       "    </tr>\n",
       "    <tr>\n",
       "      <th>1</th>\n",
       "      <td>2</td>\n",
       "      <td>3</td>\n",
       "      <td>4</td>\n",
       "      <td>4.0</td>\n",
       "    </tr>\n",
       "  </tbody>\n",
       "</table>\n",
       "</div>"
      ],
      "text/plain": [
       "   0  1  2    3\n",
       "0  1  2  3  NaN\n",
       "1  2  3  4  4.0"
      ]
     },
     "execution_count": 8,
     "metadata": {},
     "output_type": "execute_result"
    }
   ],
   "source": [
    "g()"
   ]
  },
  {
   "cell_type": "code",
   "execution_count": 9,
   "metadata": {},
   "outputs": [
    {
     "data": {
      "text/plain": [
       "\"Module(body=[FunctionDef(name='g', args=arguments(args=[], vararg=None, kwonlyargs=[], kw_defaults=[], kwarg=None, defaults=[]), body=[Assign(targets=[Name(id='Arr', ctx=Store())], value=List(elts=[], ctx=Load())), Assign(targets=[Name(id='r1', ctx=Store())], value=List(elts=[Num(n=1), Num(n=2), Num(n=3)], ctx=Load())), Expr(value=Call(func=Attribute(value=Name(id='Arr', ctx=Load()), attr='append', ctx=Load()), args=[Name(id='r1', ctx=Load())], keywords=[])), Assign(targets=[Name(id='r2', ctx=Store())], value=List(elts=[Num(n=2), Num(n=3), Num(n=4), Num(n=4)], ctx=Load())), Expr(value=Call(func=Attribute(value=Name(id='Arr', ctx=Load()), attr='append', ctx=Load()), args=[Name(id='r2', ctx=Load())], keywords=[])), Assign(targets=[Name(id='df', ctx=Store())], value=Call(func=Attribute(value=Name(id='pd', ctx=Load()), attr='DataFrame', ctx=Load()), args=[Name(id='Arr', ctx=Load())], keywords=[])), Return(value=Name(id='df', ctx=Load()))], decorator_list=[], returns=None)])\""
      ]
     },
     "execution_count": 9,
     "metadata": {},
     "output_type": "execute_result"
    }
   ],
   "source": [
    "t3=ast.parse(inspect.getsource(g))\n",
    "ast.dump(t3)"
   ]
  },
  {
   "cell_type": "code",
   "execution_count": 11,
   "metadata": {},
   "outputs": [
    {
     "data": {
      "text/plain": [
       "2"
      ]
     },
     "execution_count": 11,
     "metadata": {},
     "output_type": "execute_result"
    }
   ],
   "source": [
    "# Calculate the row numbers using varible numbers\n",
    "vs=[]\n",
    "for node in ast.walk(t3):\n",
    "    if isinstance(node, ast.Name):\n",
    "        vs.append(node.id)\n",
    "newvs=list(set(vs))\n",
    "newvs\n",
    "row_num=len(newvs)-3\n",
    "row_num"
   ]
  },
  {
   "cell_type": "code",
   "execution_count": 12,
   "metadata": {},
   "outputs": [
    {
     "name": "stdout",
     "output_type": "stream",
     "text": [
      "4\n"
     ]
    }
   ],
   "source": [
    "# Calculate the column numbers\n",
    "class sizeofDF(ast.NodeVisitor):\n",
    "    def visit_Module(self,node):\n",
    "        results=[self.visit(s) for s in node.body]\n",
    "        return results[0]\n",
    "    def visit_FunctionDef(self,node):\n",
    "        results2=[self.visit(s) for s in node.body]\n",
    "        return max(results2)\n",
    "    def visit_Assign(self,node):\n",
    "        return self.visit(node.value)\n",
    "    def visit_List(self,node):\n",
    "        column=len(node.elts)\n",
    "        return column\n",
    "    def visit_Expr(self,node):\n",
    "        return self.visit(node.value)\n",
    "    def visit_Call(self,node):\n",
    "        return self.visit(node.func)\n",
    "    def visit_Attribute(self,node):\n",
    "        return 0\n",
    "    def visit_Return(self,node):\n",
    "        return 0\n",
    "test=ast.parse(inspect.getsource(g))\n",
    "col_num=sizeofDF().visit(test)\n",
    "print(sizeofDF().visit(test))"
   ]
  },
  {
   "cell_type": "code",
   "execution_count": 13,
   "metadata": {},
   "outputs": [
    {
     "data": {
      "text/plain": [
       "8"
      ]
     },
     "execution_count": 13,
     "metadata": {},
     "output_type": "execute_result"
    }
   ],
   "source": [
    "#The maximum size of dataframe is row_num*col_num\n",
    "size=row_num*col_num\n",
    "size"
   ]
  }
 ],
 "metadata": {
  "kernelspec": {
   "display_name": "Python 3",
   "language": "python",
   "name": "python3"
  },
  "language_info": {
   "codemirror_mode": {
    "name": "ipython",
    "version": 3
   },
   "file_extension": ".py",
   "mimetype": "text/x-python",
   "name": "python",
   "nbconvert_exporter": "python",
   "pygments_lexer": "ipython3",
   "version": "3.6.3"
  }
 },
 "nbformat": 4,
 "nbformat_minor": 2
}
